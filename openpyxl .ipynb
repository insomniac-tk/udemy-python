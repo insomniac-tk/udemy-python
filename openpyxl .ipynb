{
 "cells": [
  {
   "cell_type": "code",
   "execution_count": 36,
   "metadata": {},
   "outputs": [],
   "source": [
    "from openpyxl import Workbook\n",
    "import math \n",
    "wb = Workbook()\n",
    "\n",
    "# grab the active worksheet\n",
    "ws = wb.active\n",
    "ws.title = \"My Epic Sheet\"\n",
    "ws['A1'] = 'Number'\n",
    "ws['B1']  = 'Square'\n",
    "ws['C1']  = 'Square Root'\n",
    "\n",
    "# Print Numbers [A2 - A100]\n",
    "for i in range(2,102):\n",
    "    cell = 'A' + str(i)\n",
    "    ws[cell] = i-1\n",
    "\n",
    "# Print Squares [B2- B100]\n",
    "for i in range(2,102):\n",
    "    cell = 'B' + str(i)\n",
    "    ws[cell] = (i-1)**2\n",
    "\n",
    "for i in range(2,102):\n",
    "    cell = 'C' + str(i)\n",
    "    ws[cell] = math.sqrt(i-1)\n",
    "    "
   ]
  },
  {
   "cell_type": "code",
   "execution_count": 37,
   "metadata": {},
   "outputs": [],
   "source": [
    "# Save the file\n",
    "wb.save(\"squares.xlsx\")"
   ]
  }
 ],
 "metadata": {
  "kernelspec": {
   "display_name": "Python 3",
   "language": "python",
   "name": "python3"
  },
  "language_info": {
   "codemirror_mode": {
    "name": "ipython",
    "version": 3
   },
   "file_extension": ".py",
   "mimetype": "text/x-python",
   "name": "python",
   "nbconvert_exporter": "python",
   "pygments_lexer": "ipython3",
   "version": "3.6.5"
  }
 },
 "nbformat": 4,
 "nbformat_minor": 2
}
