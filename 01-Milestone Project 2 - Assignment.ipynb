{
 "cells": [
  {
   "cell_type": "markdown",
   "metadata": {},
   "source": [
    "# Milestone Project 2 - Blackjack Game\n",
    "In this milestone project you will be creating a Complete BlackJack Card Game in Python.\n",
    "\n",
    "Here are the requirements:\n",
    "\n",
    "* You need to create a simple text-based [BlackJack](https://en.wikipedia.org/wiki/Blackjack) game\n",
    "* The game needs to have one player versus an automated dealer.\n",
    "* The player can stand or hit.\n",
    "* The player must be able to pick their betting amount.\n",
    "* You need to keep track of the player's total money.\n",
    "* You need to alert the player of wins, losses, or busts, etc...\n",
    "\n",
    "And most importantly:\n",
    "\n",
    "* **You must use OOP and classes in some portion of your game. You can not just use functions in your game. Use classes to help you define the Deck and the Player's hand. There are many right ways to do this, so explore it well!**\n",
    "\n",
    "\n",
    "Feel free to expand this game. Try including multiple players. Try adding in Double-Down and card splits! Remember to you are free to use any resources you want and as always:\n",
    "\n",
    "# HAVE FUN!"
   ]
  },
  {
   "cell_type": "code",
   "execution_count": 1,
   "metadata": {},
   "outputs": [],
   "source": [
    "# Some globals\n",
    "import random \n",
    "suits = ('Hearts', 'Diamonds', 'Spades', 'Clubs')\n",
    "ranks = ('Two', 'Three', 'Four', 'Five', 'Six', 'Seven', 'Eight', 'Nine', 'Ten', 'Jack', 'Queen', 'King', 'Ace')\n",
    "values = {'Two':2, 'Three':3, 'Four':4, 'Five':5, 'Six':6, 'Seven':7, 'Eight':8, 'Nine':9, 'Ten':10, 'Jack':10,\n",
    "         'Queen':10, 'King':10, 'Ace':11}\n",
    "used_cards = []\n",
    "playing = True"
   ]
  },
  {
   "cell_type": "code",
   "execution_count": 2,
   "metadata": {},
   "outputs": [],
   "source": [
    "class Card():\n",
    "    '''\n",
    "        This class serves as an abstraction for A Single Card\n",
    "        Every Card has - A suit, A rank and A Value. \n",
    "    '''\n",
    "    \n",
    "    def __init__(self,suit,rank):\n",
    "        self.suit = suit\n",
    "        self.rank = rank\n",
    "        self.value = values[rank]\n",
    "        \n",
    "    def __str__(self):\n",
    "        return \"{} of {}\".format(self.rank,self.suit)\n",
    "    \n",
    "    def __len__(self):\n",
    "        return self.value\n",
    "\n",
    "    \n",
    "    "
   ]
  },
  {
   "cell_type": "code",
   "execution_count": 3,
   "metadata": {},
   "outputs": [],
   "source": [
    "# Card Test\n",
    "aceofspades = Card(\"Spades\",\"Ace\")\n",
    "queenofdiamonds = Card(\"Diamonds\",\"Queen\")\n",
    "twoofclubs = Card(\"Clubs\",\"Two\")\n",
    "mycards = [aceofspades,queenofdiamonds,twoofclubs]"
   ]
  },
  {
   "cell_type": "code",
   "execution_count": 4,
   "metadata": {},
   "outputs": [
    {
     "data": {
      "text/plain": [
       "'Ace of Spades'"
      ]
     },
     "execution_count": 4,
     "metadata": {},
     "output_type": "execute_result"
    }
   ],
   "source": [
    "x = aceofspades.__str__()\n",
    "x"
   ]
  },
  {
   "cell_type": "code",
   "execution_count": 5,
   "metadata": {},
   "outputs": [
    {
     "name": "stdout",
     "output_type": "stream",
     "text": [
      "Ace of Spades = 11 \n",
      "Queen of Diamonds = 10 \n",
      "Two of Clubs = 2 \n"
     ]
    }
   ],
   "source": [
    "for c in mycards:\n",
    "    l = len(c)\n",
    "    print(\"{} = {} \".format(c,l))"
   ]
  },
  {
   "cell_type": "code",
   "execution_count": 6,
   "metadata": {},
   "outputs": [],
   "source": [
    "class Deck:\n",
    "    '''\n",
    "            This class takes care of the abstraction for a Deck of cards\n",
    "    '''\n",
    "    \n",
    "    def __init__(self):\n",
    "        self.deck = []\n",
    "        for suit in suits:\n",
    "            for rank in ranks:\n",
    "                self.deck.append(Card(suit,rank))\n",
    "                \n",
    "    def __str__(self):\n",
    "        '''\n",
    "            Printing each card inside out Deck!\n",
    "            1. Create a list of string representations of our cards\n",
    "            2. Return a string of those list items using join\n",
    "        '''\n",
    "        cards = []\n",
    "        for c in self.deck:\n",
    "            cards.append(c.__str__())\n",
    "        return ','.join(cards)\n",
    "            \n",
    "            \n",
    "    def shuffle(self):\n",
    "        random.shuffle(self.deck)\n",
    "    \n",
    "    def __len__(self):\n",
    "        return len(self.deck)\n",
    "    \n",
    "    def deal(self):\n",
    "        # Dealer deals the card on top of the deck\n",
    "        single_card = self.deck.pop()\n",
    "        return single_card\n",
    "    \n",
    "        "
   ]
  },
  {
   "cell_type": "code",
   "execution_count": 7,
   "metadata": {
    "scrolled": true
   },
   "outputs": [],
   "source": [
    "x = Deck()"
   ]
  },
  {
   "cell_type": "code",
   "execution_count": 8,
   "metadata": {},
   "outputs": [
    {
     "data": {
      "text/plain": [
       "'Ace of Clubs'"
      ]
     },
     "execution_count": 8,
     "metadata": {},
     "output_type": "execute_result"
    }
   ],
   "source": [
    "x.deal().__str__()"
   ]
  },
  {
   "cell_type": "code",
   "execution_count": 9,
   "metadata": {},
   "outputs": [],
   "source": [
    "class Hand():\n",
    "    \n",
    "    def __init__(self):\n",
    "        self.cards = []\n",
    "        self.value = 0 # Hand begins with zero value \n",
    "        self.aces = 0 # Check number of aces\n",
    "    \n",
    "    def add_card(self,card):\n",
    "        self.cards.append(card)\n",
    "        self.value += values[card.rank]\n",
    "        \n",
    "        if card.rank == 'Ace':\n",
    "            self.aces +=1\n",
    "       \n",
    "    def adjust_for_ace(self):\n",
    "        while self.value > 21 and self.aces:\n",
    "            self.value -= 10 # Consider ace as 1 instead of 11 \n",
    "            self.aces -= 1 # Done with one ace\n",
    "    \n",
    "    \n",
    "    def __str__(self):\n",
    "        cards = [c.__str__() for c in self.cards ]\n",
    "        return ','.join(cards)"
   ]
  },
  {
   "cell_type": "code",
   "execution_count": 10,
   "metadata": {},
   "outputs": [],
   "source": [
    "new_h = Hand()\n",
    "new_h.add_card(aceofspades)\n",
    "new_h.add_card(Card(\"Hearts\",\"Nine\"))\n",
    "new_h.add_card(Card(\"Hearts\",\"Three\"))"
   ]
  },
  {
   "cell_type": "code",
   "execution_count": 11,
   "metadata": {},
   "outputs": [
    {
     "name": "stdout",
     "output_type": "stream",
     "text": [
      "Ace of Spades,Nine of Hearts,Three of Hearts\n"
     ]
    }
   ],
   "source": [
    "print(new_h)"
   ]
  },
  {
   "cell_type": "code",
   "execution_count": 12,
   "metadata": {},
   "outputs": [],
   "source": [
    "new_h.adjust_for_ace()"
   ]
  },
  {
   "cell_type": "code",
   "execution_count": 13,
   "metadata": {},
   "outputs": [
    {
     "data": {
      "text/plain": [
       "13"
      ]
     },
     "execution_count": 13,
     "metadata": {},
     "output_type": "execute_result"
    }
   ],
   "source": [
    "new_h.value"
   ]
  },
  {
   "cell_type": "code",
   "execution_count": 14,
   "metadata": {},
   "outputs": [],
   "source": [
    "class Chips():\n",
    "    \n",
    "    def __init__(self):\n",
    "        self.total = 100 \n",
    "        self.bet = 0\n",
    "    \n",
    "    def win_bet(self):\n",
    "        self.total+=self.bet\n",
    "    \n",
    "    def lose_bet(self):\n",
    "        self.total-=self.bet\n",
    "    \n",
    "    \n",
    "    def __str__(self):\n",
    "        return \" Bankroll : {}\".format(self.total)"
   ]
  },
  {
   "cell_type": "code",
   "execution_count": 15,
   "metadata": {},
   "outputs": [],
   "source": [
    "def take_bet(chips):\n",
    "    \n",
    "    while True:\n",
    "        \n",
    "        try:\n",
    "            chips.bet = int(input(\"Your Bet , $: \"))\n",
    "        except:\n",
    "            print(\"Betting amount has to be an integer! Try again\")\n",
    "            continue\n",
    "        # there was no exception, time to break!\n",
    "        else:\n",
    "            if chips.bet > chips.total:\n",
    "                print(\"Your bet can't exceed the chips amount. Try again.\")\n",
    "                continue\n",
    "            else:\n",
    "                print(\"You bet ${} on the current hand!\".format(chips.bet))\n",
    "                return chips.bet\n",
    "                break"
   ]
  },
  {
   "cell_type": "code",
   "execution_count": 16,
   "metadata": {},
   "outputs": [],
   "source": [
    "'''\n",
    "    Function that will be called when Player wants to hit\n",
    "    Hit means we need to add a card to the current hand from the deck\n",
    "    \n",
    "    Parameters:\n",
    "    hand,deck\n",
    "\n",
    "    Return None\n",
    "'''\n",
    "def hit(hand,deck):\n",
    "    \n",
    "    new_card = deck.deal()\n",
    "    hand.add_card(new_card)\n",
    "    hand.adjust_for_ace()\n"
   ]
  },
  {
   "cell_type": "code",
   "execution_count": 17,
   "metadata": {},
   "outputs": [],
   "source": [
    "def hit_or_stand(hand,deck):\n",
    "    global playing\n",
    "    while True:\n",
    "        choice = input(\"Hit or Stand ?(H or S)\")\n",
    "        \n",
    "        if choice[0].lower() == 'h':\n",
    "            hit(hand,deck)\n",
    "        elif choice[0].lower() == 's':\n",
    "            print(\"Player stands. Dealer's turn now.\")\n",
    "            playing = False\n",
    "            \n",
    "        else:\n",
    "            print(\"Please H or S again...\")\n",
    "            continue\n",
    "        break"
   ]
  },
  {
   "cell_type": "code",
   "execution_count": 18,
   "metadata": {},
   "outputs": [],
   "source": [
    "'''\n",
    "Show all the cards of both player and dealer \n",
    "\n",
    "Input - dealer's hand and player's hand\n",
    "\n",
    "Returns two lists of card objects for dealer and player\n",
    "'''\n",
    "def show_all(player,dealer):\n",
    "    dealer_hand = dealer.__str__()\n",
    "    player_hand = player.__str__()\n",
    "    print(\"Player Hand - {}({})\\nDealer Hand - {}({})\".format(player_hand,player.value,dealer_hand,dealer.value))\n",
    "\n",
    "    \n",
    "    \n",
    "def show_some(player,dealer):\n",
    "    # show only one card from dealer\n",
    "    dealer_hand = dealer.__str__().split(',')[0]\n",
    "    player_hand = player.__str__() # Hand str notation\n",
    "    print(\"Player Hand - {}({})\\nDealer Hand - {}\".format(player_hand,player.value,dealer_hand))\n",
    "    \n",
    "    "
   ]
  },
  {
   "cell_type": "code",
   "execution_count": 19,
   "metadata": {},
   "outputs": [],
   "source": [
    "#end game scenarios\n",
    "\n",
    "# Player Loses His Wager\n",
    "def player_busts(player,dealer,chips):\n",
    "    print(\"BUST PLAYER!\")\n",
    "    chips.lose_bet()\n",
    "\n",
    "# Player Wins His Wager\n",
    "def player_wins(player,dealer,chips):\n",
    "    print(\"PLAYER WINS!!\")\n",
    "    chips.win_bet()\n",
    "\n",
    "def dealer_busts(player,dealer,chips):\n",
    "    print(\"PLAYER WINS! DEALER BUSTED!\")\n",
    "    chips.win_bet()\n",
    "    \n",
    "def dealer_wins(player,dealer,chips):\n",
    "    print(\"DEALER WINS!\")\n",
    "    chips.lose_bet()\n",
    "    \n",
    "# TIE\n",
    "def push(player,dealer):\n",
    "    print(\"Dealer and player tie! PUSH\")\n",
    "    "
   ]
  },
  {
   "cell_type": "code",
   "execution_count": 20,
   "metadata": {},
   "outputs": [],
   "source": [
    "def play_again():\n",
    "    return input(\"Continue playing ?\").lower() == 'y'"
   ]
  },
  {
   "cell_type": "markdown",
   "metadata": {},
   "source": [
    "## Game Play\n",
    "To play a hand of Blackjack the following steps must be followed:\n",
    "1. Create a deck of 52 cards\n",
    "2. Shuffle the deck\n",
    "3. Ask the Player for their bet\n",
    "4. Make sure that the Player's bet does not exceed their available chips\n",
    "5. Deal two cards to the Dealer and two cards to the Player\n",
    "6. Show only one of the Dealer's cards, the other remains hidden\n",
    "7. Show both of the Player's cards\n",
    "8. Ask the Player if they wish to Hit, and take another card\n",
    "9. If the Player's hand doesn't Bust (go over 21), ask if they'd like to Hit again.\n",
    "10. If a Player Stands, play the Dealer's hand. The dealer will always Hit until the Dealer's value meets or exceeds 17\n",
    "11. Determine the winner and adjust the Player's chips accordingly\n",
    "12. Ask the Player if they'd like to play again"
   ]
  },
  {
   "cell_type": "code",
   "execution_count": null,
   "metadata": {},
   "outputs": [
    {
     "name": "stdout",
     "output_type": "stream",
     "text": [
      "#### Welcome to PyBlackJack ####\n",
      " Bankroll : 100\n",
      "Your Bet , $: 20\n",
      "You bet $20 on the current hand!\n",
      "Player Hand - Six of Spades,Nine of Hearts(15)\n",
      "Dealer Hand - Ten of Hearts\n",
      "##########################\n",
      "Hit or Stand ?(H or S)h\n",
      "Player Hand - Six of Spades,Nine of Hearts,Four of Diamonds(19)\n",
      "Dealer Hand - Ten of Hearts\n",
      "Hit or Stand ?(H or S)s\n",
      "Player stands. Dealer's turn now.\n",
      "Player Hand - Six of Spades,Nine of Hearts,Four of Diamonds(19)\n",
      "Dealer Hand - Ten of Hearts\n",
      "Final hands: \n",
      "Player Hand - Six of Spades,Nine of Hearts,Four of Diamonds(19)\n",
      "Dealer Hand - Ten of Hearts,Jack of Spades(20)\n",
      "DEALER WINS!\n",
      "\n",
      " Player's total  : 80 \n",
      "Play another hand? y\n",
      "#### Welcome to PyBlackJack ####\n",
      " Bankroll : 100\n"
     ]
    }
   ],
   "source": [
    "playing = True \n",
    "while True:\n",
    "    \n",
    "    print(\"#### Welcome to PyBlackJack ####\")\n",
    "    \n",
    "    # Deck of 52 cards\n",
    "    deck = Deck()\n",
    "        \n",
    "    #Shuffle\n",
    "    deck.shuffle()\n",
    "        \n",
    "    # Initialize Chips \n",
    "        \n",
    "    player_chips = Chips()\n",
    "    print(player_chips)\n",
    "    \n",
    "    \n",
    "    # Ask player for bet \n",
    "        \n",
    "    player_bet = take_bet(player_chips)\n",
    "        \n",
    "        \n",
    "    # Initialize Hands\n",
    "        \n",
    "    player_hand = Hand()\n",
    "    dealer_hand = Hand()\n",
    "        \n",
    "    # Deal cards\n",
    "    count = 1\n",
    "    while count <=2:\n",
    "        player_hand.add_card(deck.deal())\n",
    "        dealer_hand.add_card(deck.deal())\n",
    "        count+=1 \n",
    "    # Show Two Cards Face Up For Player and One face up for Dealer\n",
    "        \n",
    "    show_some(player_hand,dealer_hand)\n",
    "    \n",
    "    # Now check if either player of dealer get a blackjack \n",
    "    \n",
    "    print(\"##########################\")\n",
    "    while playing:\n",
    "        \n",
    "        # hit or stand ? \n",
    "        hit_or_stand(player_hand,deck)\n",
    "        \n",
    "        # Show cards again ealer_hand\n",
    "        \n",
    "        show_some(player_hand,dealer_hand)\n",
    "    \n",
    "        # check if player busts and break \n",
    "        if player_hand.value > 21:\n",
    "            print(\"Player busts!\")\n",
    "            player_busts(player_hand,dealer_hand,player_chips)\n",
    "            break\n",
    "     \n",
    "     # if player hasn't busted , play dealer's hand till 17 \n",
    "        \n",
    "    if player_hand.value <= 21:\n",
    "        \n",
    "        while dealer_hand.value <=17:\n",
    "            hit(dealer_hand,deck)\n",
    "            \n",
    "   \n",
    "    \n",
    "    # show all cards now!\n",
    "    print(\"Final hands: \")\n",
    "    show_all(player_hand,dealer_hand)\n",
    "    \n",
    "    # winning scenarios\n",
    "    \n",
    "    if dealer_hand.value > 21:\n",
    "        dealer_busts(player_hand,dealer_hand,player_chips)\n",
    "    \n",
    "    elif dealer_hand.value > player_hand.value:\n",
    "        dealer_wins(player_hand,dealer_hand,player_chips)\n",
    "    \n",
    "    elif dealer_hand.value < player_hand.value:\n",
    "        player_wins(player_hand,dealer_hand,player_chips)\n",
    "    \n",
    "    else:\n",
    "        push(player_hand,dealer_hand)\n",
    "    \n",
    "    print(\"\\n Player's total  : {} \".format(player_chips.total))\n",
    "    \n",
    "    # if player doesn't want to play again  , break from the main outer loop\n",
    "    \n",
    "    play_again = input(\"Play another hand? \")\n",
    "    if play_again[0].lower() == 'y':\n",
    "        playing = True\n",
    "        continue \n",
    "    else:\n",
    "        print('Thank you! See ya later!')\n",
    "        break"
   ]
  },
  {
   "cell_type": "code",
   "execution_count": null,
   "metadata": {},
   "outputs": [],
   "source": []
  }
 ],
 "metadata": {
  "kernelspec": {
   "display_name": "Python 3",
   "language": "python",
   "name": "python3"
  },
  "language_info": {
   "codemirror_mode": {
    "name": "ipython",
    "version": 3
   },
   "file_extension": ".py",
   "mimetype": "text/x-python",
   "name": "python",
   "nbconvert_exporter": "python",
   "pygments_lexer": "ipython3",
   "version": "3.6.7"
  }
 },
 "nbformat": 4,
 "nbformat_minor": 1
}
