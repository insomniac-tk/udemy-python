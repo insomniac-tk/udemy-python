{
 "cells": [
  {
   "cell_type": "markdown",
   "metadata": {},
   "source": [
    "# Tic Tac Toe ( XO )\n",
    "\n",
    "Here we are finally! After all those hours of assesments and other stuff, here's our first project! \n",
    "<hr>"
   ]
  },
  {
   "cell_type": "code",
   "execution_count": 34,
   "metadata": {},
   "outputs": [],
   "source": [
    "def board(l):\n",
    "    for i in l:\n",
    "        print(' ',end='')\n",
    "        for k in i:\n",
    "            print('| {} '.format(k),end='')\n",
    "        print('\\n -----------')\n",
    "xo = {'x':'X','o':'O'}\n",
    "\n",
    "\n"
   ]
  },
  {
   "cell_type": "code",
   "execution_count": 33,
   "metadata": {},
   "outputs": [
    {
     "name": "stdout",
     "output_type": "stream",
     "text": [
      " | 1 | 2 | 3 \n",
      " -----------\n",
      " | 4 | O | 6 \n",
      " -----------\n",
      " | 7 | 8 | 9 \n",
      " -----------\n",
      "######################Welcome to the TIC TOE MADE BY A NOOB\n",
      "This edition of tic tac toe has been created by a Python noob.\n",
      "Enjoy.\n"
     ]
    }
   ],
   "source": [
    "l = [[1,2,3],[4,'O',6],[7,8,9]]\n",
    "board(l)\n",
    "begin()"
   ]
  }
 ],
 "metadata": {
  "kernelspec": {
   "display_name": "Python 3",
   "language": "python",
   "name": "python3"
  },
  "language_info": {
   "codemirror_mode": {
    "name": "ipython",
    "version": 3
   },
   "file_extension": ".py",
   "mimetype": "text/x-python",
   "name": "python",
   "nbconvert_exporter": "python",
   "pygments_lexer": "ipython3",
   "version": "3.6.5"
  }
 },
 "nbformat": 4,
 "nbformat_minor": 2
}
