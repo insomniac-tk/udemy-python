{
 "cells": [
  {
   "cell_type": "markdown",
   "metadata": {},
   "source": [
    "# Control Flow\n",
    "\n",
    "---"
   ]
  },
  {
   "cell_type": "code",
   "execution_count": 4,
   "metadata": {},
   "outputs": [
    {
     "name": "stdout",
     "output_type": "stream",
     "text": [
      "I do not want food.\n"
     ]
    }
   ],
   "source": [
    "hungry = False\n",
    "if hungry:\n",
    "    print('Feed me!')\n",
    "else:\n",
    "    print('I do not want food.')"
   ]
  },
  {
   "cell_type": "code",
   "execution_count": 5,
   "metadata": {},
   "outputs": [
    {
     "name": "stdout",
     "output_type": "stream",
     "text": [
      "Welcome to the Bank!\n"
     ]
    }
   ],
   "source": [
    "loc = 'Bank'\n",
    "\n",
    "if loc == 'Bank':\n",
    "    print('Welcome to the Bank!')\n",
    "elif loc=='Home':\n",
    "    print('Welcome home!')\n",
    "elif loc=='School':\n",
    "    print('Study!')\n",
    "else:\n",
    "    print(\"I don't know much\")\n",
    "    "
   ]
  },
  {
   "cell_type": "markdown",
   "metadata": {},
   "source": [
    "# For Loops\n",
    "\n",
    "Many objects in Python are _iterable_ meaning wec an **iterate over every element in the object**  \n",
    "Iterable - you can iterate over the object!\n",
    "String is an iterable object, so are lists!\n",
    "\n",
    "---"
   ]
  },
  {
   "cell_type": "code",
   "execution_count": 6,
   "metadata": {},
   "outputs": [
    {
     "name": "stdout",
     "output_type": "stream",
     "text": [
      "Tejas\n",
      "Sherlock\n",
      "Nanny\n"
     ]
    }
   ],
   "source": [
    "my_iterable = ['Tejas','Sherlock','Nanny']\n",
    "\n",
    "for name in my_iterable:\n",
    "    print(name)"
   ]
  },
  {
   "cell_type": "code",
   "execution_count": 7,
   "metadata": {},
   "outputs": [
    {
     "name": "stdout",
     "output_type": "stream",
     "text": [
      "Odd -> 1\n",
      "Even - > 2\n",
      "Odd -> 3\n",
      "Even - > 4\n",
      "Odd -> 5\n",
      "Even - > 6\n",
      "Odd -> 7\n",
      "Even - > 8\n"
     ]
    }
   ],
   "source": [
    "mylist = [1,2,3,4,5,6,7,8]\n",
    "for num in mylist:\n",
    "    if num %2 == 0:\n",
    "        print(f'Even - > {num}')\n",
    "    else:\n",
    "        print(f'Odd -> {num}')"
   ]
  },
  {
   "cell_type": "code",
   "execution_count": 10,
   "metadata": {},
   "outputs": [
    {
     "name": "stdout",
     "output_type": "stream",
     "text": [
      "T/e/j/a/s/ /K/h/a/n/n/a/"
     ]
    }
   ],
   "source": [
    "name = 'Tejas Khanna'\n",
    "for letter in name:\n",
    "    print(letter,end='/')"
   ]
  },
  {
   "cell_type": "code",
   "execution_count": 11,
   "metadata": {},
   "outputs": [
    {
     "name": "stdout",
     "output_type": "stream",
     "text": [
      "1\n",
      "2\n",
      "3\n",
      "4\n",
      "5\n"
     ]
    }
   ],
   "source": [
    "#tuple\n",
    "tup = (1,2,3,4,5)\n",
    "for item in tup:\n",
    "    print(item)"
   ]
  },
  {
   "cell_type": "code",
   "execution_count": 12,
   "metadata": {},
   "outputs": [
    {
     "data": {
      "text/plain": [
       "4"
      ]
     },
     "execution_count": 12,
     "metadata": {},
     "output_type": "execute_result"
    }
   ],
   "source": [
    "mlist = [(1,2),(121,23),(1244,234234),(123123,1231)]\n",
    "len(mlist)"
   ]
  },
  {
   "cell_type": "code",
   "execution_count": 13,
   "metadata": {},
   "outputs": [
    {
     "name": "stdout",
     "output_type": "stream",
     "text": [
      "(1, 2)\n",
      "(121, 23)\n",
      "(1244, 234234)\n",
      "(123123, 1231)\n"
     ]
    }
   ],
   "source": [
    "for item in mlist:\n",
    "    print(item)"
   ]
  },
  {
   "cell_type": "code",
   "execution_count": 20,
   "metadata": {},
   "outputs": [
    {
     "name": "stdout",
     "output_type": "stream",
     "text": [
      "1 , 2\n",
      "121 , 23\n",
      "1244 , 234234\n",
      "123123 , 1231\n"
     ]
    }
   ],
   "source": [
    "# Tuple Unpacking \n",
    "for (x,y) in mlist: # this is tuple unpacking\n",
    "    print(x,\",\",y)"
   ]
  },
  {
   "cell_type": "code",
   "execution_count": 23,
   "metadata": {},
   "outputs": [
    {
     "name": "stdout",
     "output_type": "stream",
     "text": [
      "X 1\n",
      "Y 2\n",
      "--\n",
      "X -12\n",
      "Y 232\n",
      "--\n"
     ]
    }
   ],
   "source": [
    "coordinates = [(1,2),(-12,232)]\n",
    "for point in coordinates:\n",
    "    first_ptx,first_pty = point\n",
    "    print('X',first_ptx)\n",
    "    print('Y',first_pty)\n",
    "    print('--')"
   ]
  },
  {
   "cell_type": "code",
   "execution_count": 26,
   "metadata": {},
   "outputs": [
    {
     "name": "stdout",
     "output_type": "stream",
     "text": [
      "X= 1Y= 12Z= 12X= 324Y= 34Z= 453X= 23Y= 23Z= 22"
     ]
    }
   ],
   "source": [
    "# 3D \n",
    "points = [(1,12,12),(324,34,453),(23,23,22)]\n",
    "\n",
    "for x,y,z in points:\n",
    "    print('X=',x,end='')\n",
    "    print('Y=',y,end='')\n",
    "    print('Z=',z,end='')\n",
    "    "
   ]
  },
  {
   "cell_type": "code",
   "execution_count": 7,
   "metadata": {},
   "outputs": [
    {
     "name": "stdout",
     "output_type": "stream",
     "text": [
      "1\n",
      "2\n",
      "1\n",
      "1\n"
     ]
    }
   ],
   "source": [
    "#Iterating thru dictionaries\n",
    "d = {'k1':1,'k2':2,'k3':1,'k4':1}\n",
    "\n",
    "for k,v in d.items():\n",
    "    print(v) #prints keys"
   ]
  },
  {
   "cell_type": "code",
   "execution_count": 14,
   "metadata": {},
   "outputs": [
    {
     "name": "stdout",
     "output_type": "stream",
     "text": [
      "Value1\n",
      "Value2\n",
      "Value3\n",
      "-----------------\n",
      "Value1\n",
      "Value2\n",
      "Value3\n"
     ]
    }
   ],
   "source": [
    "#We can take advantage of tuple unpacking here \n",
    "\n",
    "d = {'k1':'Value1','k2':'Value2','k3':'Value3'}\n",
    "\n",
    "for k,v in d.items():  # tuple unpacking\n",
    "    print(v) \n",
    "    \n",
    "#for just values \n",
    "print('-----------------')\n",
    "for v in d.values():\n",
    "    print(v)"
   ]
  },
  {
   "cell_type": "markdown",
   "metadata": {},
   "source": [
    "# While Loops\n",
    "\n",
    "---"
   ]
  },
  {
   "cell_type": "code",
   "execution_count": 3,
   "metadata": {},
   "outputs": [
    {
     "name": "stdout",
     "output_type": "stream",
     "text": [
      "The current value of x is 0\n",
      "The current value of x is 1\n",
      "The current value of x is 2\n",
      "The current value of x is 3\n",
      "The current value of x is 4\n"
     ]
    }
   ],
   "source": [
    "x = 0 \n",
    "while x < 5:\n",
    "\tprint(f'The current value of x is {x}')\n",
    "\tx = x + 1 "
   ]
  },
  {
   "cell_type": "markdown",
   "metadata": {},
   "source": [
    "# pass,continue,break\n",
    "\n",
    "---"
   ]
  },
  {
   "cell_type": "code",
   "execution_count": 2,
   "metadata": {},
   "outputs": [
    {
     "name": "stdout",
     "output_type": "stream",
     "text": [
      "after for loop\n"
     ]
    }
   ],
   "source": [
    "x = [1,2,3]\n",
    "\n",
    "for i in x:\n",
    "    pass #not sure what to do\n",
    "print('after for loop')"
   ]
  },
  {
   "cell_type": "code",
   "execution_count": 4,
   "metadata": {},
   "outputs": [
    {
     "name": "stdout",
     "output_type": "stream",
     "text": [
      "T\n",
      "e\n",
      "j\n"
     ]
    }
   ],
   "source": [
    "mystr = 'Tejas'\n",
    "useless_letters = ['a','s']\n",
    "\n",
    "for letter in mystr:\n",
    "    if letter in useless_letters:\n",
    "        continue\n",
    "    print(letter)"
   ]
  },
  {
   "cell_type": "code",
   "execution_count": 7,
   "metadata": {},
   "outputs": [
    {
     "name": "stdout",
     "output_type": "stream",
     "text": [
      "0\n",
      "1\n"
     ]
    }
   ],
   "source": [
    "x = 0\n",
    "while x<10:\n",
    "    if x==2:\n",
    "        break\n",
    "    print(x)\n",
    "    x+=1"
   ]
  }
 ],
 "metadata": {
  "kernelspec": {
   "display_name": "Python 3",
   "language": "python",
   "name": "python3"
  },
  "language_info": {
   "codemirror_mode": {
    "name": "ipython",
    "version": 3
   },
   "file_extension": ".py",
   "mimetype": "text/x-python",
   "name": "python",
   "nbconvert_exporter": "python",
   "pygments_lexer": "ipython3",
   "version": "3.6.5"
  }
 },
 "nbformat": 4,
 "nbformat_minor": 2
}
