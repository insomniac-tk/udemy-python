{
 "cells": [
  {
   "cell_type": "markdown",
   "metadata": {},
   "source": [
    "# Control Flow\n",
    "\n",
    "---"
   ]
  },
  {
   "cell_type": "code",
   "execution_count": 4,
   "metadata": {},
   "outputs": [
    {
     "name": "stdout",
     "output_type": "stream",
     "text": [
      "I do not want food.\n"
     ]
    }
   ],
   "source": [
    "hungry = False\n",
    "if hungry:\n",
    "    print('Feed me!')\n",
    "else:\n",
    "    print('I do not want food.')"
   ]
  },
  {
   "cell_type": "code",
   "execution_count": 5,
   "metadata": {},
   "outputs": [
    {
     "name": "stdout",
     "output_type": "stream",
     "text": [
      "Welcome to the Bank!\n"
     ]
    }
   ],
   "source": [
    "loc = 'Bank'\n",
    "\n",
    "if loc == 'Bank':\n",
    "    print('Welcome to the Bank!')\n",
    "elif loc=='Home':\n",
    "    print('Welcome home!')\n",
    "elif loc=='School':\n",
    "    print('Study!')\n",
    "else:\n",
    "    print(\"I don't know much\")\n",
    "    "
   ]
  },
  {
   "cell_type": "markdown",
   "metadata": {},
   "source": [
    "# For Loops\n",
    "\n",
    "Many objects in Python are _iterable_ meaning wec an **iterate over every element in the object**  \n",
    "Iterable - you can iterate over the object!\n",
    "String is an iterable object, so are lists!\n",
    "\n",
    "---"
   ]
  },
  {
   "cell_type": "code",
   "execution_count": 6,
   "metadata": {},
   "outputs": [
    {
     "name": "stdout",
     "output_type": "stream",
     "text": [
      "Tejas\n",
      "Sherlock\n",
      "Nanny\n"
     ]
    }
   ],
   "source": [
    "my_iterable = ['Tejas','Sherlock','Nanny']\n",
    "\n",
    "for name in my_iterable:\n",
    "    print(name)"
   ]
  },
  {
   "cell_type": "code",
   "execution_count": 7,
   "metadata": {},
   "outputs": [
    {
     "name": "stdout",
     "output_type": "stream",
     "text": [
      "Odd -> 1\n",
      "Even - > 2\n",
      "Odd -> 3\n",
      "Even - > 4\n",
      "Odd -> 5\n",
      "Even - > 6\n",
      "Odd -> 7\n",
      "Even - > 8\n"
     ]
    }
   ],
   "source": [
    "mylist = [1,2,3,4,5,6,7,8]\n",
    "for num in mylist:\n",
    "    if num %2 == 0:\n",
    "        print(f'Even - > {num}')\n",
    "    else:\n",
    "        print(f'Odd -> {num}')"
   ]
  },
  {
   "cell_type": "code",
   "execution_count": 10,
   "metadata": {},
   "outputs": [
    {
     "name": "stdout",
     "output_type": "stream",
     "text": [
      "T/e/j/a/s/ /K/h/a/n/n/a/"
     ]
    }
   ],
   "source": [
    "name = 'Tejas Khanna'\n",
    "for letter in name:\n",
    "    print(letter,end='/')"
   ]
  },
  {
   "cell_type": "code",
   "execution_count": 11,
   "metadata": {},
   "outputs": [
    {
     "name": "stdout",
     "output_type": "stream",
     "text": [
      "1\n",
      "2\n",
      "3\n",
      "4\n",
      "5\n"
     ]
    }
   ],
   "source": [
    "#tuple\n",
    "tup = (1,2,3,4,5)\n",
    "for item in tup:\n",
    "    print(item)"
   ]
  },
  {
   "cell_type": "code",
   "execution_count": 12,
   "metadata": {},
   "outputs": [
    {
     "data": {
      "text/plain": [
       "4"
      ]
     },
     "execution_count": 12,
     "metadata": {},
     "output_type": "execute_result"
    }
   ],
   "source": [
    "mlist = [(1,2),(121,23),(1244,234234),(123123,1231)]\n",
    "len(mlist)"
   ]
  },
  {
   "cell_type": "code",
   "execution_count": 13,
   "metadata": {},
   "outputs": [
    {
     "name": "stdout",
     "output_type": "stream",
     "text": [
      "(1, 2)\n",
      "(121, 23)\n",
      "(1244, 234234)\n",
      "(123123, 1231)\n"
     ]
    }
   ],
   "source": [
    "for item in mlist:\n",
    "    print(item)"
   ]
  },
  {
   "cell_type": "code",
   "execution_count": 20,
   "metadata": {},
   "outputs": [
    {
     "name": "stdout",
     "output_type": "stream",
     "text": [
      "1 , 2\n",
      "121 , 23\n",
      "1244 , 234234\n",
      "123123 , 1231\n"
     ]
    }
   ],
   "source": [
    "# Tuple Unpacking \n",
    "for (x,y) in mlist: # this is tuple unpacking\n",
    "    print(x,\",\",y)"
   ]
  },
  {
   "cell_type": "code",
   "execution_count": 23,
   "metadata": {},
   "outputs": [
    {
     "name": "stdout",
     "output_type": "stream",
     "text": [
      "X 1\n",
      "Y 2\n",
      "--\n",
      "X -12\n",
      "Y 232\n",
      "--\n"
     ]
    }
   ],
   "source": [
    "coordinates = [(1,2),(-12,232)]\n",
    "for point in coordinates:\n",
    "    first_ptx,first_pty = point\n",
    "    print('X',first_ptx)\n",
    "    print('Y',first_pty)\n",
    "    print('--')"
   ]
  },
  {
   "cell_type": "code",
   "execution_count": 26,
   "metadata": {},
   "outputs": [
    {
     "name": "stdout",
     "output_type": "stream",
     "text": [
      "X= 1Y= 12Z= 12X= 324Y= 34Z= 453X= 23Y= 23Z= 22"
     ]
    }
   ],
   "source": [
    "# 3D \n",
    "points = [(1,12,12),(324,34,453),(23,23,22)]\n",
    "\n",
    "for x,y,z in points:\n",
    "    print('X=',x,end='')\n",
    "    print('Y=',y,end='')\n",
    "    print('Z=',z,end='')\n",
    "    "
   ]
  }
 ],
 "metadata": {
  "kernelspec": {
   "display_name": "Python 3",
   "language": "python",
   "name": "python3"
  },
  "language_info": {
   "codemirror_mode": {
    "name": "ipython",
    "version": 3
   },
   "file_extension": ".py",
   "mimetype": "text/x-python",
   "name": "python",
   "nbconvert_exporter": "python",
   "pygments_lexer": "ipython3",
   "version": "3.6.5"
  }
 },
 "nbformat": 4,
 "nbformat_minor": 2
}
